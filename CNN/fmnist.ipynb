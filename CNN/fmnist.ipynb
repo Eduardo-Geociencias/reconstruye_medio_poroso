{
  "nbformat": 4,
  "nbformat_minor": 0,
  "metadata": {
    "kernelspec": {
      "display_name": "Python 3",
      "language": "python",
      "name": "python3"
    },
    "language_info": {
      "codemirror_mode": {
        "name": "ipython",
        "version": 3
      },
      "file_extension": ".py",
      "mimetype": "text/x-python",
      "name": "python",
      "nbconvert_exporter": "python",
      "pygments_lexer": "ipython3",
      "version": "3.8.5"
    },
    "colab": {
      "name": "fmnist.ipynb",
      "provenance": []
    }
  },
  "cells": [
    {
      "cell_type": "markdown",
      "metadata": {
        "id": "vz4ZOw1IWm6G"
      },
      "source": [
        "# Clasificar ropa\n",
        "Este notebook de ejemplo mostrará cómo crear una CNN para el dataset Fashion MNIST."
      ]
    },
    {
      "cell_type": "markdown",
      "metadata": {
        "id": "7BHXRhgCWm6K"
      },
      "source": [
        "## Consiguiendo los datos\n",
        "Los datos pueden obtenerse desde keras. Las imágenes están preparadas para una rápida implementación, pues son del mismo tamaño y son pequeñas."
      ]
    },
    {
      "cell_type": "code",
      "metadata": {
        "id": "DMGe2dgZWm6K"
      },
      "source": [
        "from keras.datasets import fashion_mnist"
      ],
      "execution_count": 1,
      "outputs": []
    },
    {
      "cell_type": "code",
      "metadata": {
        "colab": {
          "base_uri": "https://localhost:8080/"
        },
        "id": "nTe3F4-5Wm6M",
        "outputId": "3538bc10-f59d-4d91-bb20-be7a93a87384"
      },
      "source": [
        "(X_train, y_train), (X_test, y_test) = fashion_mnist.load_data()"
      ],
      "execution_count": 7,
      "outputs": [
        {
          "output_type": "stream",
          "name": "stdout",
          "text": [
            "Downloading data from https://storage.googleapis.com/tensorflow/tf-keras-datasets/train-labels-idx1-ubyte.gz\n",
            "32768/29515 [=================================] - 0s 0us/step\n",
            "40960/29515 [=========================================] - 0s 0us/step\n",
            "Downloading data from https://storage.googleapis.com/tensorflow/tf-keras-datasets/train-images-idx3-ubyte.gz\n",
            "26427392/26421880 [==============================] - 0s 0us/step\n",
            "26435584/26421880 [==============================] - 0s 0us/step\n",
            "Downloading data from https://storage.googleapis.com/tensorflow/tf-keras-datasets/t10k-labels-idx1-ubyte.gz\n",
            "16384/5148 [===============================================================================================] - 0s 0us/step\n",
            "Downloading data from https://storage.googleapis.com/tensorflow/tf-keras-datasets/t10k-images-idx3-ubyte.gz\n",
            "4423680/4422102 [==============================] - 0s 0us/step\n",
            "4431872/4422102 [==============================] - 0s 0us/step\n"
          ]
        }
      ]
    },
    {
      "cell_type": "markdown",
      "metadata": {
        "id": "bocz2DTaYcjQ"
      },
      "source": [
        "Se puede ver que las imágenes son de 28 pixeles, lo que permite un rápido entrenamiento.\n"
      ]
    },
    {
      "cell_type": "code",
      "metadata": {
        "colab": {
          "base_uri": "https://localhost:8080/",
          "height": 282
        },
        "id": "91ezAp1hYlpR",
        "outputId": "f44a85f5-6eea-48b2-af56-e47fbbb62bc7"
      },
      "source": [
        "plt.imshow(X_train[0])"
      ],
      "execution_count": 9,
      "outputs": [
        {
          "output_type": "execute_result",
          "data": {
            "text/plain": [
              "<matplotlib.image.AxesImage at 0x7f3f451cf1d0>"
            ]
          },
          "metadata": {},
          "execution_count": 9
        },
        {
          "output_type": "display_data",
          "data": {
            "image/png": "[encoded data removed]",
            "text/plain": [
              "<Figure size 432x288 with 1 Axes>"
            ]
          },
          "metadata": {
            "needs_background": "light"
          }
        }
      ]
    },
    {
      "cell_type": "markdown",
      "metadata": {
        "id": "OoVZWgPtZY3K"
      },
      "source": [
        "Las etiquetas se encuentran en números así que se necesita aplicar one hot enconding para que cada categoría se convierta en un valor binario."
      ]
    },
    {
      "cell_type": "code",
      "metadata": {
        "colab": {
          "base_uri": "https://localhost:8080/"
        },
        "id": "Y0dsdGxGYupM",
        "outputId": "92ceec0d-3461-45c0-a0eb-e12162c2e41a"
      },
      "source": [
        "y_train[0]"
      ],
      "execution_count": 10,
      "outputs": [
        {
          "output_type": "execute_result",
          "data": {
            "text/plain": [
              "9"
            ]
          },
          "metadata": {},
          "execution_count": 10
        }
      ]
    },
    {
      "cell_type": "markdown",
      "metadata": {
        "id": "XkIEB2WAaNhc"
      },
      "source": [
        "## Preprocesado"
      ]
    },
    {
      "cell_type": "markdown",
      "metadata": {
        "id": "Vbzifc08aQ11"
      },
      "source": [
        "Normalizamos los datos de las imágenes. Deben tener valores entre cero y uno."
      ]
    },
    {
      "cell_type": "code",
      "metadata": {
        "colab": {
          "base_uri": "https://localhost:8080/"
        },
        "id": "Bl1rpOcHZVs3",
        "outputId": "86ca01da-bc84-41ec-e12f-4252234850ac"
      },
      "source": [
        "X_train.max()"
      ],
      "execution_count": 17,
      "outputs": [
        {
          "output_type": "execute_result",
          "data": {
            "text/plain": [
              "255"
            ]
          },
          "metadata": {},
          "execution_count": 17
        }
      ]
    },
    {
      "cell_type": "code",
      "metadata": {
        "id": "7Za85iSjaWth"
      },
      "source": [
        "X_train = X_train/255"
      ],
      "execution_count": 19,
      "outputs": []
    },
    {
      "cell_type": "code",
      "metadata": {
        "colab": {
          "base_uri": "https://localhost:8080/"
        },
        "id": "coWfoELlacqw",
        "outputId": "33aa8c75-cf48-45da-9849-662cde45d4bf"
      },
      "source": [
        "X_train.max()"
      ],
      "execution_count": 20,
      "outputs": [
        {
          "output_type": "execute_result",
          "data": {
            "text/plain": [
              "1.0"
            ]
          },
          "metadata": {},
          "execution_count": 20
        }
      ]
    },
    {
      "cell_type": "markdown",
      "metadata": {
        "id": "wp2_mYK2arhc"
      },
      "source": [
        "Se hace lo mismo con los datos de prueba."
      ]
    },
    {
      "cell_type": "code",
      "metadata": {
        "id": "clpz4RZMaiMI"
      },
      "source": [
        "X_test = X_test/255\n"
      ],
      "execution_count": 21,
      "outputs": []
    },
    {
      "cell_type": "markdown",
      "metadata": {
        "id": "adVa9R_za2As"
      },
      "source": [
        "### Redimensionando para ingresarlo en la red\n",
        "La red neuronal necesita la información de los canales de colores, así que hay que redimensionar la matriz de entrenamiento."
      ]
    },
    {
      "cell_type": "code",
      "metadata": {
        "id": "RLybbO6zaqfQ"
      },
      "source": [
        "import numpy as np"
      ],
      "execution_count": 22,
      "outputs": []
    },
    {
      "cell_type": "code",
      "metadata": {
        "colab": {
          "base_uri": "https://localhost:8080/"
        },
        "id": "y9dBEvLKbBP9",
        "outputId": "a9b1acaf-b2fd-4b99-83cc-ce3e7c9799f1"
      },
      "source": [
        "np.shape(X_train)"
      ],
      "execution_count": 23,
      "outputs": [
        {
          "output_type": "execute_result",
          "data": {
            "text/plain": [
              "(60000, 28, 28)"
            ]
          },
          "metadata": {},
          "execution_count": 23
        }
      ]
    },
    {
      "cell_type": "code",
      "metadata": {
        "id": "_1MtmYusbDeh"
      },
      "source": [
        "X_train = np.reshape(X_train,(60000,28,28,1))"
      ],
      "execution_count": 25,
      "outputs": []
    },
    {
      "cell_type": "markdown",
      "metadata": {
        "id": "ZVEuv4bSba3A"
      },
      "source": [
        "Se hace lo mismo para los datos de prueba."
      ]
    },
    {
      "cell_type": "code",
      "metadata": {
        "colab": {
          "base_uri": "https://localhost:8080/"
        },
        "id": "4e4sMpp4bUle",
        "outputId": "f1c43115-54d5-46d0-ac0b-29cce510037a"
      },
      "source": [
        "np.shape(X_test)"
      ],
      "execution_count": 26,
      "outputs": [
        {
          "output_type": "execute_result",
          "data": {
            "text/plain": [
              "(10000, 28, 28)"
            ]
          },
          "metadata": {},
          "execution_count": 26
        }
      ]
    },
    {
      "cell_type": "code",
      "metadata": {
        "id": "GBZn5x66bPRu"
      },
      "source": [
        "X_test = np.reshape(X_test,(10000,28,28,1))"
      ],
      "execution_count": 27,
      "outputs": []
    },
    {
      "cell_type": "markdown",
      "metadata": {
        "id": "4hsq-eKTbhcn"
      },
      "source": [
        "### One hot coding para clasificación\n",
        "Cada categoría debe ser una opción binaria, si no, la red pensará que una categoría vale más que otra porque su número es más grande. Los datos dejan de ser números naturales, para volverse nuevas columnas en el dataset."
      ]
    },
    {
      "cell_type": "code",
      "metadata": {
        "id": "mF6KgtEwbZkm"
      },
      "source": [
        "from tensorflow.keras.utils import to_categorical"
      ],
      "execution_count": 31,
      "outputs": []
    },
    {
      "cell_type": "code",
      "metadata": {
        "id": "1B-8pUSgb7uU"
      },
      "source": [
        "y_cat_train = to_categorical(y_train)"
      ],
      "execution_count": 32,
      "outputs": []
    },
    {
      "cell_type": "code",
      "metadata": {
        "id": "LA6L1M95cepk"
      },
      "source": [
        "y_cat_test = to_categorical(y_test)"
      ],
      "execution_count": 33,
      "outputs": []
    },
    {
      "cell_type": "markdown",
      "metadata": {
        "id": "uZUmKcZ9cqLR"
      },
      "source": [
        "Se puede ver el cambio en los diez primeros datos de entrenamiento."
      ]
    },
    {
      "cell_type": "code",
      "metadata": {
        "colab": {
          "base_uri": "https://localhost:8080/"
        },
        "id": "DwhhXwN9ckzA",
        "outputId": "219d30ef-f1cf-45b1-a03a-41822a2f2157"
      },
      "source": [
        "y_train[:10]"
      ],
      "execution_count": 35,
      "outputs": [
        {
          "output_type": "execute_result",
          "data": {
            "text/plain": [
              "array([9, 0, 0, 3, 0, 2, 7, 2, 5, 5], dtype=uint8)"
            ]
          },
          "metadata": {},
          "execution_count": 35
        }
      ]
    },
    {
      "cell_type": "code",
      "metadata": {
        "colab": {
          "base_uri": "https://localhost:8080/"
        },
        "id": "oaJwsShHcia8",
        "outputId": "3de4744f-f1dc-42d1-8107-ed7cdef44d51"
      },
      "source": [
        "y_cat_train[:10]"
      ],
      "execution_count": 34,
      "outputs": [
        {
          "output_type": "execute_result",
          "data": {
            "text/plain": [
              "array([[0., 0., 0., 0., 0., 0., 0., 0., 0., 1.],\n",
              "       [1., 0., 0., 0., 0., 0., 0., 0., 0., 0.],\n",
              "       [1., 0., 0., 0., 0., 0., 0., 0., 0., 0.],\n",
              "       [0., 0., 0., 1., 0., 0., 0., 0., 0., 0.],\n",
              "       [1., 0., 0., 0., 0., 0., 0., 0., 0., 0.],\n",
              "       [0., 0., 1., 0., 0., 0., 0., 0., 0., 0.],\n",
              "       [0., 0., 0., 0., 0., 0., 0., 1., 0., 0.],\n",
              "       [0., 0., 1., 0., 0., 0., 0., 0., 0., 0.],\n",
              "       [0., 0., 0., 0., 0., 1., 0., 0., 0., 0.],\n",
              "       [0., 0., 0., 0., 0., 1., 0., 0., 0., 0.]], dtype=float32)"
            ]
          },
          "metadata": {},
          "execution_count": 34
        }
      ]
    },
    {
      "cell_type": "markdown",
      "metadata": {
        "id": "LdUfAZnLcyhy"
      },
      "source": [
        "## Construir el modelo"
      ]
    },
    {
      "cell_type": "code",
      "metadata": {
        "id": "dEQVE6z5cnwI"
      },
      "source": [
        "from keras.models import Sequential\n",
        "from keras.layers import Dense, Conv2D, MaxPooling2D, Flatten"
      ],
      "execution_count": 36,
      "outputs": []
    },
    {
      "cell_type": "code",
      "metadata": {
        "id": "dPw-cr_ZdI00"
      },
      "source": [
        "# se crea un modelo secuencial\n",
        "model = Sequential()\n",
        "#capa de entrada\n",
        "model.add(Conv2D(filters=32,kernel_size=(4,4),input_shape=(28,28,1),activation='relu'))\n",
        "#max pool\n",
        "model.add(MaxPooling2D(pool_size=(2,2)))\n",
        "#se aplana la imagen\n",
        "model.add(Flatten())\n",
        "#red neuronal\n",
        "model.add(Dense(units=128,activation='relu'))\n",
        "#capa de salida\n",
        "model.add(Dense(units=10,activation='softmax'))\n",
        "#compilar el modelo\n",
        "model.compile(loss='categorical_crossentropy',\n",
        "              optimizer='rmsprop',\n",
        "              metrics=['accuracy'])\n"
      ],
      "execution_count": 41,
      "outputs": []
    },
    {
      "cell_type": "code",
      "metadata": {
        "colab": {
          "base_uri": "https://localhost:8080/"
        },
        "id": "9UJFPbE_egzi",
        "outputId": "039bb7ee-f913-43c8-ef78-ac49511705a5"
      },
      "source": [
        "model.summary()"
      ],
      "execution_count": 42,
      "outputs": [
        {
          "output_type": "stream",
          "name": "stdout",
          "text": [
            "Model: \"sequential_1\"\n",
            "_________________________________________________________________\n",
            "Layer (type)                 Output Shape              Param #   \n",
            "=================================================================\n",
            "conv2d_1 (Conv2D)            (None, 25, 25, 32)        544       \n",
            "_________________________________________________________________\n",
            "max_pooling2d_1 (MaxPooling2 (None, 12, 12, 32)        0         \n",
            "_________________________________________________________________\n",
            "flatten_1 (Flatten)          (None, 4608)              0         \n",
            "_________________________________________________________________\n",
            "dense_2 (Dense)              (None, 128)               589952    \n",
            "_________________________________________________________________\n",
            "dense_3 (Dense)              (None, 10)                1290      \n",
            "=================================================================\n",
            "Total params: 591,786\n",
            "Trainable params: 591,786\n",
            "Non-trainable params: 0\n",
            "_________________________________________________________________\n"
          ]
        }
      ]
    },
    {
      "cell_type": "markdown",
      "metadata": {
        "id": "loSD8oQSeoLU"
      },
      "source": [
        "## Entrenamiento"
      ]
    },
    {
      "cell_type": "code",
      "metadata": {
        "colab": {
          "base_uri": "https://localhost:8080/"
        },
        "id": "GaD6sNLkelur",
        "outputId": "a448cb50-fce8-464e-a234-fdba9c480a92"
      },
      "source": [
        "model.fit(X_train,y_cat_train,epochs=10)"
      ],
      "execution_count": 43,
      "outputs": [
        {
          "output_type": "stream",
          "name": "stdout",
          "text": [
            "Epoch 1/10\n",
            "1875/1875 [==============================] - 37s 19ms/step - loss: 0.4004 - accuracy: 0.8580\n",
            "Epoch 2/10\n",
            "1875/1875 [==============================] - 36s 19ms/step - loss: 0.2793 - accuracy: 0.8993\n",
            "Epoch 3/10\n",
            "1875/1875 [==============================] - 36s 19ms/step - loss: 0.2415 - accuracy: 0.9135\n",
            "Epoch 4/10\n",
            "1875/1875 [==============================] - 36s 19ms/step - loss: 0.2173 - accuracy: 0.9233\n",
            "Epoch 5/10\n",
            "1875/1875 [==============================] - 35s 19ms/step - loss: 0.1995 - accuracy: 0.9292\n",
            "Epoch 6/10\n",
            "1875/1875 [==============================] - 35s 19ms/step - loss: 0.1866 - accuracy: 0.9346\n",
            "Epoch 7/10\n",
            "1875/1875 [==============================] - 35s 19ms/step - loss: 0.1745 - accuracy: 0.9386\n",
            "Epoch 8/10\n",
            "1875/1875 [==============================] - 35s 19ms/step - loss: 0.1648 - accuracy: 0.9417\n",
            "Epoch 9/10\n",
            "1875/1875 [==============================] - 35s 19ms/step - loss: 0.1543 - accuracy: 0.9454\n",
            "Epoch 10/10\n",
            "1875/1875 [==============================] - 35s 19ms/step - loss: 0.1459 - accuracy: 0.9482\n"
          ]
        },
        {
          "output_type": "execute_result",
          "data": {
            "text/plain": [
              "<keras.callbacks.History at 0x7f3f3e31d190>"
            ]
          },
          "metadata": {},
          "execution_count": 43
        }
      ]
    },
    {
      "cell_type": "markdown",
      "metadata": {
        "id": "AMH0glsNge_W"
      },
      "source": [
        "## Evaluación"
      ]
    },
    {
      "cell_type": "markdown",
      "metadata": {
        "id": "yG68NqL4gscw"
      },
      "source": [
        "El modelo obtuvo buenos resultados aprendiendo a clasificar estas prendas."
      ]
    },
    {
      "cell_type": "code",
      "metadata": {
        "colab": {
          "base_uri": "https://localhost:8080/"
        },
        "id": "HVNsUB9Wg2ie",
        "outputId": "201e1ffb-112c-40c7-8bcd-92ff588eeb14"
      },
      "source": [
        "model.metrics_names"
      ],
      "execution_count": 46,
      "outputs": [
        {
          "output_type": "execute_result",
          "data": {
            "text/plain": [
              "['loss', 'accuracy']"
            ]
          },
          "metadata": {},
          "execution_count": 46
        }
      ]
    },
    {
      "cell_type": "code",
      "metadata": {
        "colab": {
          "base_uri": "https://localhost:8080/"
        },
        "id": "WPtlxJTne1vA",
        "outputId": "5b0959a8-f76a-4748-f8b1-c2eac298a94d"
      },
      "source": [
        "model.evaluate(X_test,y_cat_test)"
      ],
      "execution_count": 44,
      "outputs": [
        {
          "output_type": "stream",
          "name": "stdout",
          "text": [
            "313/313 [==============================] - 2s 5ms/step - loss: 0.3169 - accuracy: 0.9081\n"
          ]
        },
        {
          "output_type": "execute_result",
          "data": {
            "text/plain": [
              "[0.31694483757019043, 0.9081000089645386]"
            ]
          },
          "metadata": {},
          "execution_count": 44
        }
      ]
    },
    {
      "cell_type": "markdown",
      "metadata": {
        "id": "ZHnGAgAzhHIn"
      },
      "source": [
        "Se puede verificar su eficacia utilizando otros parámetros de sklearn."
      ]
    },
    {
      "cell_type": "code",
      "metadata": {
        "id": "MPGJXttbgkSO"
      },
      "source": [
        "from sklearn.metrics import classification_report"
      ],
      "execution_count": 47,
      "outputs": []
    },
    {
      "cell_type": "markdown",
      "metadata": {
        "id": "7oovHcOHiLLI"
      },
      "source": [
        "Se obtiene la categoría predicha por el modelo."
      ]
    },
    {
      "cell_type": "code",
      "metadata": {
        "id": "BDPXeqfChCQe"
      },
      "source": [
        "predictions = np.argmax(model.predict(X_test), axis=-1)"
      ],
      "execution_count": 55,
      "outputs": []
    },
    {
      "cell_type": "code",
      "metadata": {
        "colab": {
          "base_uri": "https://localhost:8080/"
        },
        "id": "Waoa7kHZhSGu",
        "outputId": "e443d2d7-a9c6-4b44-8f0e-0efee2db37e0"
      },
      "source": [
        "print(classification_report(y_test, predictions))"
      ],
      "execution_count": 56,
      "outputs": [
        {
          "output_type": "stream",
          "name": "stdout",
          "text": [
            "              precision    recall  f1-score   support\n",
            "\n",
            "           0       0.83      0.88      0.86      1000\n",
            "           1       0.99      0.98      0.99      1000\n",
            "           2       0.84      0.86      0.85      1000\n",
            "           3       0.93      0.90      0.91      1000\n",
            "           4       0.82      0.88      0.85      1000\n",
            "           5       0.98      0.97      0.98      1000\n",
            "           6       0.79      0.69      0.74      1000\n",
            "           7       0.96      0.96      0.96      1000\n",
            "           8       0.97      0.99      0.98      1000\n",
            "           9       0.95      0.97      0.96      1000\n",
            "\n",
            "    accuracy                           0.91     10000\n",
            "   macro avg       0.91      0.91      0.91     10000\n",
            "weighted avg       0.91      0.91      0.91     10000\n",
            "\n"
          ]
        }
      ]
    },
    {
      "cell_type": "markdown",
      "metadata": {
        "id": "Pn0mF_Zaif57"
      },
      "source": [
        "Los resultados son bastante buenos, pues obtiene puntuaciones mayores a 0.7 en cada métrica utilizada."
      ]
    },
    {
      "cell_type": "markdown",
      "metadata": {
        "id": "B3lF89oLi6KY"
      },
      "source": [
        "## Guardar el modelo"
      ]
    },
    {
      "cell_type": "code",
      "metadata": {
        "id": "LLshCj08hYPi"
      },
      "source": [
        "model.save('fmnist.h5')"
      ],
      "execution_count": 57,
      "outputs": []
    },
    {
      "cell_type": "code",
      "metadata": {
        "id": "sNdWC6kgi4l-"
      },
      "source": [
        ""
      ],
      "execution_count": null,
      "outputs": []
    }
  ]
}