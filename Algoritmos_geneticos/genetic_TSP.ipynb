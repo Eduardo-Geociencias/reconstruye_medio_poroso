{
  "nbformat": 4,
  "nbformat_minor": 0,
  "metadata": {
    "colab": {
      "name": "genetic_TSP.ipynb",
      "provenance": [],
      "collapsed_sections": []
    },
    "kernelspec": {
      "name": "python3",
      "display_name": "Python 3"
    },
    "language_info": {
      "name": "python"
    }
  },
  "cells": [
    {
      "cell_type": "markdown",
      "source": [
        "# Algoritmo genético para el problema TSP"
      ],
      "metadata": {
        "id": "mxNsLRP0-5cp"
      }
    },
    {
      "cell_type": "code",
      "execution_count": 1,
      "metadata": {
        "id": "IM5Ev0bPHZt0"
      },
      "outputs": [],
      "source": [
        "import numpy as np\n",
        "from scipy.spatial import distance\n",
        "import networkx as nx\n",
        "import matplotlib.pyplot as plt"
      ]
    },
    {
      "cell_type": "markdown",
      "source": [
        "Se generan puntos aleatorios en un espacio bidimensional"
      ],
      "metadata": {
        "id": "lJklHmafHlBc"
      }
    },
    {
      "cell_type": "code",
      "source": [
        "n_points = 20"
      ],
      "metadata": {
        "id": "dHcw_G1oIuwb"
      },
      "execution_count": 184,
      "outputs": []
    },
    {
      "cell_type": "code",
      "source": [
        "pos = { i:(np.random.random(),np.random.random()) for i in range(n_points)}"
      ],
      "metadata": {
        "id": "WmQVzx_sHfDW"
      },
      "execution_count": 189,
      "outputs": []
    },
    {
      "cell_type": "markdown",
      "source": [
        "Se crea un grafo a partir de esos puntos"
      ],
      "metadata": {
        "id": "V54WckjS_HKQ"
      }
    },
    {
      "cell_type": "code",
      "source": [
        "G = nx.Graph()"
      ],
      "metadata": {
        "id": "6hcu5nBDIEQ0"
      },
      "execution_count": 190,
      "outputs": []
    },
    {
      "cell_type": "code",
      "source": [
        "for i in range(n_points):\n",
        "  G.add_node(i)"
      ],
      "metadata": {
        "id": "1KVR8m1zIfAC"
      },
      "execution_count": 191,
      "outputs": []
    },
    {
      "cell_type": "code",
      "source": [
        "nx.draw(G,pos, with_labels=True)"
      ],
      "metadata": {
        "colab": {
          "base_uri": "https://localhost:8080/",
          "height": 319
        },
        "id": "cLkFwRhRI4I4",
        "outputId": "7278f810-843d-403c-9e69-634aab10e9c9"
      },
      "execution_count": 192,
      "outputs": [
        {
          "output_type": "display_data",
          "data": {
            "text/plain": [
              "<Figure size 432x288 with 1 Axes>"
            ],
            "image/png": "[encoded data removed]"
          },
          "metadata": {}
        }
      ]
    },
    {
      "cell_type": "markdown",
      "source": [
        "Se utilizará la distancia euclidiana como métrica para el problema TSP"
      ],
      "metadata": {
        "id": "wSeG3Ors_N4m"
      }
    },
    {
      "cell_type": "code",
      "source": [
        "distance.euclidean(pos[0],pos[1])"
      ],
      "metadata": {
        "colab": {
          "base_uri": "https://localhost:8080/"
        },
        "id": "lOXLkhylIUrc",
        "outputId": "64753eba-d8e5-474e-8f9c-196fece502a6"
      },
      "execution_count": 193,
      "outputs": [
        {
          "output_type": "execute_result",
          "data": {
            "text/plain": [
              "0.6110050074112605"
            ]
          },
          "metadata": {},
          "execution_count": 193
        }
      ]
    },
    {
      "cell_type": "markdown",
      "source": [
        "## Algoritmo genético"
      ],
      "metadata": {
        "id": "f073WCB0JtfA"
      }
    },
    {
      "cell_type": "markdown",
      "source": [
        "### Población aleatoria"
      ],
      "metadata": {
        "id": "o-0Ng8j7_mrb"
      }
    },
    {
      "cell_type": "markdown",
      "source": [
        "Se genera una población con genes aleatorios"
      ],
      "metadata": {
        "id": "A6RVMRjc_WSm"
      }
    },
    {
      "cell_type": "code",
      "source": [
        "n_population = 1000"
      ],
      "metadata": {
        "id": "ITiA5PgXJ_tI"
      },
      "execution_count": 194,
      "outputs": []
    },
    {
      "cell_type": "code",
      "source": [
        "possible_gen = list(pos.keys())"
      ],
      "metadata": {
        "id": "AIlAv8wNKQiX"
      },
      "execution_count": 195,
      "outputs": []
    },
    {
      "cell_type": "code",
      "source": [
        "intial_population = [np.random.choice(possible_gen,n_points,False) for i in range(n_population) ]"
      ],
      "metadata": {
        "id": "wMhKH7YNIcYj"
      },
      "execution_count": 196,
      "outputs": []
    },
    {
      "cell_type": "markdown",
      "source": [
        "Ejemplo de individuo"
      ],
      "metadata": {
        "id": "1Jwi868E_j2Y"
      }
    },
    {
      "cell_type": "code",
      "source": [
        "intial_population[0]"
      ],
      "metadata": {
        "colab": {
          "base_uri": "https://localhost:8080/"
        },
        "id": "L5wVLk3ZKJ5W",
        "outputId": "08449d84-b2b4-4bc4-ef57-64adca41078f"
      },
      "execution_count": 197,
      "outputs": [
        {
          "output_type": "execute_result",
          "data": {
            "text/plain": [
              "array([ 4,  5, 19,  9, 11, 14,  7,  8,  0, 10, 12,  1,  6, 16, 17,  2, 18,\n",
              "        3, 13, 15])"
            ]
          },
          "metadata": {},
          "execution_count": 197
        }
      ]
    },
    {
      "cell_type": "markdown",
      "source": [
        "###Fitness"
      ],
      "metadata": {
        "id": "zMt4x3_uLVv9"
      }
    },
    {
      "cell_type": "markdown",
      "source": [
        "Función para obtener la distancia total del camino marcado por los genes"
      ],
      "metadata": {
        "id": "YyCJIQT3_sLR"
      }
    },
    {
      "cell_type": "code",
      "source": [
        "def get_total_distance(order, pos):\n",
        "  order = list(order)\n",
        "  ring_path = order.copy()\n",
        "  ring_path.append(order[0])\n",
        "  total_distance = 0\n",
        "  for i in range(n_points):\n",
        "    pos1 = pos[ring_path[i]]\n",
        "    pos2 = pos[ring_path[i+1]]\n",
        "    total_distance += distance.euclidean(pos1,pos2)\n",
        "  return total_distance"
      ],
      "metadata": {
        "id": "nBaZp9IcLYE9"
      },
      "execution_count": 198,
      "outputs": []
    },
    {
      "cell_type": "code",
      "source": [
        "get_total_distance(intial_population[0],pos)"
      ],
      "metadata": {
        "colab": {
          "base_uri": "https://localhost:8080/"
        },
        "id": "z6eKNVtFMVT9",
        "outputId": "183e6a81-647e-45f0-fefa-634597833076"
      },
      "execution_count": 199,
      "outputs": [
        {
          "output_type": "execute_result",
          "data": {
            "text/plain": [
              "9.406252682838826"
            ]
          },
          "metadata": {},
          "execution_count": 199
        }
      ]
    },
    {
      "cell_type": "code",
      "source": [
        "get_total_distance(range(n_points),pos)"
      ],
      "metadata": {
        "colab": {
          "base_uri": "https://localhost:8080/"
        },
        "id": "6Lf_6AFxNU4w",
        "outputId": "e6183491-7d65-443f-d007-15a1507f046a"
      },
      "execution_count": 200,
      "outputs": [
        {
          "output_type": "execute_result",
          "data": {
            "text/plain": [
              "9.837151629140925"
            ]
          },
          "metadata": {},
          "execution_count": 200
        }
      ]
    },
    {
      "cell_type": "markdown",
      "source": [
        "Se obtiene la distancia total de todos los individuos"
      ],
      "metadata": {
        "id": "x5hJD95PByBB"
      }
    },
    {
      "cell_type": "code",
      "source": [
        "fitness = [get_total_distance(parent,pos) for parent in intial_population]"
      ],
      "metadata": {
        "id": "DF-Q6COaLAsd"
      },
      "execution_count": 212,
      "outputs": []
    },
    {
      "cell_type": "code",
      "source": [
        "fitness[:5]"
      ],
      "metadata": {
        "colab": {
          "base_uri": "https://localhost:8080/"
        },
        "id": "SldwgGgrNuqZ",
        "outputId": "a9ee3c5a-5926-4a26-99a8-09c9c3bdec6f"
      },
      "execution_count": 213,
      "outputs": [
        {
          "output_type": "execute_result",
          "data": {
            "text/plain": [
              "[9.406252682838826,\n",
              " 10.58178022184009,\n",
              " 8.646787118362075,\n",
              " 9.688287284068014,\n",
              " 11.051999618758042]"
            ]
          },
          "metadata": {},
          "execution_count": 213
        }
      ]
    },
    {
      "cell_type": "code",
      "source": [
        "fitness = np.array(fitness)"
      ],
      "metadata": {
        "id": "IapEw8-yNyII"
      },
      "execution_count": 214,
      "outputs": []
    },
    {
      "cell_type": "markdown",
      "source": [
        "Las distancias más cortas deben tener una mayor probabilidad de reproducrise"
      ],
      "metadata": {
        "id": "8v7h7ZjrB9YS"
      }
    },
    {
      "cell_type": "code",
      "source": [
        "fitness = fitness.max() - fitness + 1 # to avoid 0"
      ],
      "metadata": {
        "id": "7T_YEo77N1in"
      },
      "execution_count": 215,
      "outputs": []
    },
    {
      "cell_type": "code",
      "source": [
        "fitness.min()"
      ],
      "metadata": {
        "colab": {
          "base_uri": "https://localhost:8080/"
        },
        "id": "_wuUcBmElRxZ",
        "outputId": "bb72d011-336d-4c27-c67e-27c61c324d6f"
      },
      "execution_count": 216,
      "outputs": [
        {
          "output_type": "execute_result",
          "data": {
            "text/plain": [
              "1.0"
            ]
          },
          "metadata": {},
          "execution_count": 216
        }
      ]
    },
    {
      "cell_type": "code",
      "source": [
        "fitness[:5]"
      ],
      "metadata": {
        "colab": {
          "base_uri": "https://localhost:8080/"
        },
        "id": "B7OxNoDwOCee",
        "outputId": "63007f01-9e0b-4003-f455-3753bb92ec74"
      },
      "execution_count": 217,
      "outputs": [
        {
          "output_type": "execute_result",
          "data": {
            "text/plain": [
              "array([3.4129132 , 2.23738566, 4.17237877, 3.1308786 , 1.76716627])"
            ]
          },
          "metadata": {},
          "execution_count": 217
        }
      ]
    },
    {
      "cell_type": "code",
      "source": [
        "fitness = fitness/fitness.sum()"
      ],
      "metadata": {
        "id": "_4TJ9KXWN56_"
      },
      "execution_count": 218,
      "outputs": []
    },
    {
      "cell_type": "code",
      "source": [
        "fitness[:5]"
      ],
      "metadata": {
        "colab": {
          "base_uri": "https://localhost:8080/"
        },
        "id": "nj6ZoIDxOu4F",
        "outputId": "0701823c-7e00-4a93-b9fc-e859e865e3b4"
      },
      "execution_count": 219,
      "outputs": [
        {
          "output_type": "execute_result",
          "data": {
            "text/plain": [
              "array([0.00099837, 0.00065449, 0.00122053, 0.00091586, 0.00051694])"
            ]
          },
          "metadata": {},
          "execution_count": 219
        }
      ]
    },
    {
      "cell_type": "code",
      "source": [
        "fitness.sum()"
      ],
      "metadata": {
        "colab": {
          "base_uri": "https://localhost:8080/"
        },
        "id": "P0IhqCHoOwj1",
        "outputId": "8243ccce-8934-4ccf-9e51-b555622d158a"
      },
      "execution_count": 220,
      "outputs": [
        {
          "output_type": "execute_result",
          "data": {
            "text/plain": [
              "1.0"
            ]
          },
          "metadata": {},
          "execution_count": 220
        }
      ]
    },
    {
      "cell_type": "code",
      "source": [
        "fitness.max()"
      ],
      "metadata": {
        "colab": {
          "base_uri": "https://localhost:8080/"
        },
        "id": "R9adxgcsOyZl",
        "outputId": "88872c04-f302-4582-ee46-fcc211406af3"
      },
      "execution_count": 221,
      "outputs": [
        {
          "output_type": "execute_result",
          "data": {
            "text/plain": [
              "0.0019490198077798404"
            ]
          },
          "metadata": {},
          "execution_count": 221
        }
      ]
    },
    {
      "cell_type": "markdown",
      "source": [
        "### Mutación"
      ],
      "metadata": {
        "id": "xbSLfyx7RSWt"
      }
    },
    {
      "cell_type": "markdown",
      "source": [
        "Se crea una función para cambiar de orden dos genes en un individuo. El `mutation_rate` siempre debe ser bajo."
      ],
      "metadata": {
        "id": "E9q2FKTzCe3X"
      }
    },
    {
      "cell_type": "code",
      "source": [
        "def mutation(order):\n",
        "  mutation_rate = 0.001\n",
        "  for i in range(n_points):\n",
        "    if(np.random.random()<mutation_rate): \n",
        "      mutation = np.random.randint(n_points)\n",
        "      # change order of two genes\n",
        "      temp = order[mutation]\n",
        "      order[mutation] = order[i]\n",
        "      order[i] = temp\n",
        "  return order"
      ],
      "metadata": {
        "id": "FaD0etDURh-Y"
      },
      "execution_count": 222,
      "outputs": []
    },
    {
      "cell_type": "code",
      "source": [
        "mutation(list(range(n_points)))"
      ],
      "metadata": {
        "colab": {
          "base_uri": "https://localhost:8080/"
        },
        "id": "8IPxufJvSXi9",
        "outputId": "e0420e4b-bc7d-4a8c-c1e9-daa45468b5be"
      },
      "execution_count": 223,
      "outputs": [
        {
          "output_type": "execute_result",
          "data": {
            "text/plain": [
              "[0, 1, 2, 3, 4, 5, 6, 7, 8, 9, 10, 11, 12, 13, 14, 15, 16, 17, 18, 19]"
            ]
          },
          "metadata": {},
          "execution_count": 223
        }
      ]
    },
    {
      "cell_type": "markdown",
      "source": [
        "### Reproducción"
      ],
      "metadata": {
        "id": "69E4PqDGe7B3"
      }
    },
    {
      "cell_type": "markdown",
      "source": [
        "Función para combinar genes de dos padres. En caso de que el gen de un padre ya exista en el individuo, se cambia de lugar. Esto puede interpretarse como una mutación, ya que el ADN final puede contener secciones que no pertenecen a ningún padre. La exactitud con la que se logra representar el entrecruzamiento depende del resultado que se quiera lograr."
      ],
      "metadata": {
        "id": "uxY1YFFFCvEH"
      }
    },
    {
      "cell_type": "code",
      "source": [
        "def combine_genes(parent1,parent2):\n",
        "  parent1 = list(parent1)\n",
        "  parent2 = list(parent2)\n",
        "  new_order = parent1.copy()\n",
        "  for i in range(n_points):\n",
        "    if(np.random.random() < 0.5): #flip a coin\n",
        "      idx = new_order.index(parent2[i])\n",
        "      new_order[idx] = new_order[i]\n",
        "      new_order[i] = parent2[i]\n",
        "\n",
        "\n",
        "  return new_order\n"
      ],
      "metadata": {
        "id": "jD0wB4D2e8Dv"
      },
      "execution_count": 224,
      "outputs": []
    },
    {
      "cell_type": "code",
      "source": [
        "combine_genes(range(n_points),range(n_points-1,-1,-1))"
      ],
      "metadata": {
        "colab": {
          "base_uri": "https://localhost:8080/"
        },
        "id": "zDHUukzahWSS",
        "outputId": "8c575496-3b0e-4092-d632-22e8284f02eb"
      },
      "execution_count": 225,
      "outputs": [
        {
          "output_type": "execute_result",
          "data": {
            "text/plain": [
              "[19, 18, 17, 16, 15, 5, 13, 12, 11, 10, 9, 8, 7, 6, 14, 4, 3, 2, 1, 0]"
            ]
          },
          "metadata": {},
          "execution_count": 225
        }
      ]
    },
    {
      "cell_type": "markdown",
      "source": [
        "Evolution"
      ],
      "metadata": {
        "id": "0eDqoHKMK0vH"
      }
    },
    {
      "cell_type": "markdown",
      "source": [
        "Número de generaciones"
      ],
      "metadata": {
        "id": "AsPJlrNgK49r"
      }
    },
    {
      "cell_type": "code",
      "source": [
        "epochs = 1000"
      ],
      "metadata": {
        "id": "n2_YwGHcKycW"
      },
      "execution_count": 226,
      "outputs": []
    },
    {
      "cell_type": "code",
      "source": [
        "current_population = intial_population"
      ],
      "metadata": {
        "id": "oOnP0JomihfF"
      },
      "execution_count": 227,
      "outputs": []
    },
    {
      "cell_type": "markdown",
      "source": [
        "Listas para documentar la evolución"
      ],
      "metadata": {
        "id": "v5TOuUp9K8bO"
      }
    },
    {
      "cell_type": "code",
      "source": [
        "min_path_distance = []\n",
        "min_distance = []\n",
        "mean_distance = []"
      ],
      "metadata": {
        "id": "fN3pK12tki7g"
      },
      "execution_count": 228,
      "outputs": []
    },
    {
      "cell_type": "markdown",
      "source": [
        "* Se crea una nueva generación a partir de dos individuos con mejores genes. \n",
        "* Se reserva un puesto para el mejor individuo de la generación anterior, esto permitirá tener la permanencia del mejor resultados.\n",
        "* Se calcula el nuevo fintess y se repite"
      ],
      "metadata": {
        "id": "xe25g9_tK_Eg"
      }
    },
    {
      "cell_type": "code",
      "source": [
        "for t in range(epochs):\n",
        "  new_generation = []\n",
        "  for _ in range(n_population-1):\n",
        "    #select two parents\n",
        "    parents = np.random.choice(n_population,p=fitness,size=2,replace=False)\n",
        "    parent1 = current_population[parents[0]]\n",
        "    parent2 = current_population[parents[1]]\n",
        "    new_path = combine_genes(parent1,parent2)\n",
        "    new_path = mutation(new_path)\n",
        "    new_generation.append(new_path)\n",
        "  idx = np.where(fitness == fitness.max())[0][0]\n",
        "  # el mejor individuo de la generación anterior prevalece\n",
        "  new_generation.append(current_population[idx])\n",
        "  current_population = new_generation\n",
        "  # nuevo fitness\n",
        "  fitness = [get_total_distance(parent,pos) for parent in current_population]\n",
        "  min_distance.append(min(fitness))\n",
        "  mean_distance.append(np.mean(fitness))\n",
        "  fitness = np.array(fitness)\n",
        "  fitness = fitness.max() - fitness + 1\n",
        "  fitness = fitness/fitness.sum()\n",
        "\n",
        "  # get best path each 100 epochs\n",
        "  if(t % 100 == 0):\n",
        "    min_idx = np.where(fitness == fitness.max())[0][0]\n",
        "    d = get_total_distance(current_population[min_idx],pos)\n",
        "    print(t,d)\n",
        "    if(d not in min_path_distance):\n",
        "      min_path_distance.append(d)\n",
        "\n",
        "      draw_edges = current_population[min_idx].copy()\n",
        "      draw_edges = list(draw_edges)\n",
        "      draw_edges.append(draw_edges[0])\n",
        "\n",
        "      G = nx.Graph()\n",
        "      for i in range(n_points):\n",
        "        G.add_node(i)\n",
        "      \n",
        "      for i in range(len(draw_edges)-1):\n",
        "        G.add_edge(draw_edges[i],draw_edges[i+1])\n",
        "\n",
        "      nx.draw(G,pos, with_labels=True)\n",
        "      plt.show()"
      ],
      "metadata": {
        "id": "dHfMsgMEK20u",
        "colab": {
          "base_uri": "https://localhost:8080/",
          "height": 1000
        },
        "outputId": "5e7336ae-a8a6-4b12-82b2-d9878acad298"
      },
      "execution_count": 231,
      "outputs": [
        {
          "output_type": "stream",
          "name": "stdout",
          "text": [
            "0 6.156451464902842\n",
            "100 5.417641746842249\n"
          ]
        },
        {
          "output_type": "display_data",
          "data": {
            "text/plain": [
              "<Figure size 432x288 with 1 Axes>"
            ],
            "image/png": "[encoded data removed]"
          },
          "metadata": {}
        },
        {
          "output_type": "stream",
          "name": "stdout",
          "text": [
            "200 5.090991023521021\n"
          ]
        },
        {
          "output_type": "display_data",
          "data": {
            "text/plain": [
              "<Figure size 432x288 with 1 Axes>"
            ],
            "image/png": "[encoded data removed]"
          },
          "metadata": {}
        },
        {
          "output_type": "stream",
          "name": "stdout",
          "text": [
            "300 4.837104049890769\n"
          ]
        },
        {
          "output_type": "display_data",
          "data": {
            "text/plain": [
              "<Figure size 432x288 with 1 Axes>"
            ],
            "image/png": "[encoded data removed]"
          },
          "metadata": {}
        },
        {
          "output_type": "stream",
          "name": "stdout",
          "text": [
            "400 4.837104049890769\n",
            "500 4.837104049890769\n",
            "600 4.649397422907302\n"
          ]
        },
        {
          "output_type": "display_data",
          "data": {
            "text/plain": [
              "<Figure size 432x288 with 1 Axes>"
            ],
            "image/png": "[encoded data removed]"
          },
          "metadata": {}
        },
        {
          "output_type": "stream",
          "name": "stdout",
          "text": [
            "700 4.649397422907302\n",
            "800 4.649397422907302\n",
            "900 4.649397422907302\n"
          ]
        }
      ]
    },
    {
      "cell_type": "markdown",
      "source": [
        "Se puede observar cómo progresa el algoritmo en encontrar la distancia mínima para el problema. Llega a estancarse en cierto punto, pero todavía hay posibilidad de mejora con unas cuantes épocas. Hay que tomar en consideración el número de puntos."
      ],
      "metadata": {
        "id": "QqZK38otLnU0"
      }
    },
    {
      "cell_type": "code",
      "source": [
        "plt.plot(min_distance)"
      ],
      "metadata": {
        "colab": {
          "base_uri": "https://localhost:8080/",
          "height": 282
        },
        "id": "4IlChAmikTHD",
        "outputId": "97d4e9f3-9e39-4b16-ba12-7278b2f0282d"
      },
      "execution_count": 232,
      "outputs": [
        {
          "output_type": "execute_result",
          "data": {
            "text/plain": [
              "[<matplotlib.lines.Line2D at 0x7f150a8762d0>]"
            ]
          },
          "metadata": {},
          "execution_count": 232
        },
        {
          "output_type": "display_data",
          "data": {
            "text/plain": [
              "<Figure size 432x288 with 1 Axes>"
            ],
            "image/png": "[encoded data removed]"
          },
          "metadata": {
            "needs_background": "light"
          }
        }
      ]
    },
    {
      "cell_type": "markdown",
      "source": [
        "La distancia promedio de cada generación muestra que no hay una tendencia a la baja. Esto se debe a que cambiar el orden de dos puntos puede alterar la distancia del camino total en gran medida. Dos padres con buenos genes no necesarimente van a generar un camino mejor. Por eso es importante que el mejor individuo prevalezca a lo largo del tiempo."
      ],
      "metadata": {
        "id": "z4IfY99IL4Iy"
      }
    },
    {
      "cell_type": "code",
      "source": [
        "plt.plot(mean_distance)"
      ],
      "metadata": {
        "colab": {
          "base_uri": "https://localhost:8080/",
          "height": 282
        },
        "id": "ho_4kPTeST1Y",
        "outputId": "9a330390-2c1a-4081-e607-05cfee092376"
      },
      "execution_count": 233,
      "outputs": [
        {
          "output_type": "execute_result",
          "data": {
            "text/plain": [
              "[<matplotlib.lines.Line2D at 0x7f150b44fcd0>]"
            ]
          },
          "metadata": {},
          "execution_count": 233
        },
        {
          "output_type": "display_data",
          "data": {
            "text/plain": [
              "<Figure size 432x288 with 1 Axes>"
            ],
            "image/png": "[encoded data removed]"
          },
          "metadata": {
            "needs_background": "light"
          }
        }
      ]
    },
    {
      "cell_type": "code",
      "source": [
        "all_distances = [get_total_distance(parent,pos) for parent in current_population]"
      ],
      "metadata": {
        "id": "b2OInTqlTEgb"
      },
      "execution_count": 234,
      "outputs": []
    },
    {
      "cell_type": "markdown",
      "source": [
        "Se observa que la mayoría de los individuos tienen una distancia total lejana al mínimo. Parece que los datos siguen una distribución normal. "
      ],
      "metadata": {
        "id": "DXpFOaBHMRJi"
      }
    },
    {
      "cell_type": "code",
      "source": [
        "plt.hist(all_distances)"
      ],
      "metadata": {
        "colab": {
          "base_uri": "https://localhost:8080/",
          "height": 355
        },
        "id": "OQBZwvg2TJTA",
        "outputId": "15288075-c05c-4701-a166-d24bde2d90eb"
      },
      "execution_count": 235,
      "outputs": [
        {
          "output_type": "execute_result",
          "data": {
            "text/plain": [
              "(array([  1.,   0.,   1.,   9.,  48., 171., 287., 275., 151.,  57.]),\n",
              " array([ 4.64939742,  5.31314511,  5.97689279,  6.64064047,  7.30438816,\n",
              "         7.96813584,  8.63188352,  9.29563121,  9.95937889, 10.62312657,\n",
              "        11.28687426]),\n",
              " <a list of 10 Patch objects>)"
            ]
          },
          "metadata": {},
          "execution_count": 235
        },
        {
          "output_type": "display_data",
          "data": {
            "text/plain": [
              "<Figure size 432x288 with 1 Axes>"
            ],
            "image/png": "[encoded data removed]"
          },
          "metadata": {
            "needs_background": "light"
          }
        }
      ]
    },
    {
      "cell_type": "markdown",
      "source": [
        "Se grafica al mejor individuo de la evolución con la distancia más corta."
      ],
      "metadata": {
        "id": "J5UOavdGMipM"
      }
    },
    {
      "cell_type": "code",
      "source": [
        "min_idx = np.where(fitness == fitness.max())[0][0]"
      ],
      "metadata": {
        "id": "e8pyv-1emwdw"
      },
      "execution_count": 236,
      "outputs": []
    },
    {
      "cell_type": "code",
      "source": [
        "draw_edges = current_population[min_idx].copy()"
      ],
      "metadata": {
        "id": "qYADk2W8OkwM"
      },
      "execution_count": 237,
      "outputs": []
    },
    {
      "cell_type": "code",
      "source": [
        "draw_edges.append(draw_edges[0])"
      ],
      "metadata": {
        "id": "qtfU-8XqOu7_"
      },
      "execution_count": 238,
      "outputs": []
    },
    {
      "cell_type": "code",
      "source": [
        "G = nx.Graph()\n",
        "for i in range(n_points):\n",
        "  G.add_node(i)"
      ],
      "metadata": {
        "id": "HxwGThCyFmTp"
      },
      "execution_count": 239,
      "outputs": []
    },
    {
      "cell_type": "code",
      "source": [
        "for i in range(len(draw_edges)-1):\n",
        "  G.add_edge(draw_edges[i],draw_edges[i+1])"
      ],
      "metadata": {
        "id": "yqMrds8YOsVo"
      },
      "execution_count": 240,
      "outputs": []
    },
    {
      "cell_type": "code",
      "source": [
        "current_population[min_idx]"
      ],
      "metadata": {
        "colab": {
          "base_uri": "https://localhost:8080/"
        },
        "id": "pgGNYT7Vm-0o",
        "outputId": "370f5acc-986c-43c9-da02-b088c9da7432"
      },
      "execution_count": 241,
      "outputs": [
        {
          "output_type": "execute_result",
          "data": {
            "text/plain": [
              "[8, 15, 2, 17, 4, 10, 5, 11, 9, 13, 16, 18, 12, 6, 0, 3, 7, 14, 19, 1]"
            ]
          },
          "metadata": {},
          "execution_count": 241
        }
      ]
    },
    {
      "cell_type": "code",
      "source": [
        "nx.draw(G,pos, with_labels=True)"
      ],
      "metadata": {
        "colab": {
          "base_uri": "https://localhost:8080/",
          "height": 319
        },
        "id": "OIroziINO7F4",
        "outputId": "abbbc609-83de-4b19-8804-cdf04dde5d88"
      },
      "execution_count": 242,
      "outputs": [
        {
          "output_type": "display_data",
          "data": {
            "text/plain": [
              "<Figure size 432x288 with 1 Axes>"
            ],
            "image/png": "[encoded data removed]"
          },
          "metadata": {}
        }
      ]
    },
    {
      "cell_type": "code",
      "source": [
        "get_total_distance(current_population[min_idx],pos)"
      ],
      "metadata": {
        "colab": {
          "base_uri": "https://localhost:8080/"
        },
        "id": "GToI1MulnQK4",
        "outputId": "d890117b-fef1-4595-851d-61361f7e4b05"
      },
      "execution_count": 244,
      "outputs": [
        {
          "output_type": "execute_result",
          "data": {
            "text/plain": [
              "4.649397422907302"
            ]
          },
          "metadata": {},
          "execution_count": 244
        }
      ]
    },
    {
      "cell_type": "markdown",
      "source": [
        "Se guardan los datos para aplicar otro algoritmo sobre el problema y ver si se pueden obtener mejores resultados."
      ],
      "metadata": {
        "id": "dAp55p93Mqvg"
      }
    },
    {
      "cell_type": "code",
      "source": [
        "pos"
      ],
      "metadata": {
        "id": "EHiKYXGAoAR_",
        "colab": {
          "base_uri": "https://localhost:8080/"
        },
        "outputId": "7aa7bc9d-3da0-4325-d9a8-aed6a6ba868f"
      },
      "execution_count": 245,
      "outputs": [
        {
          "output_type": "execute_result",
          "data": {
            "text/plain": [
              "{0: (0.2700194661840467, 0.9770385303337269),\n",
              " 1: (0.05838200602592125, 0.4038573159351282),\n",
              " 2: (0.7274556269431802, 0.7147088535674458),\n",
              " 3: (0.17053221580030287, 0.8164832080130973),\n",
              " 4: (0.6990612604696227, 0.9511878289927663),\n",
              " 5: (0.8296966819368763, 0.45399321730812225),\n",
              " 6: (0.33470386387532336, 0.9764563586873722),\n",
              " 7: (0.09845146052623566, 0.7896415198808867),\n",
              " 8: (0.13253438997465872, 0.37031375347685724),\n",
              " 9: (0.37704167588726656, 0.5468247524078595),\n",
              " 10: (0.9006413397578663, 0.6881463954970957),\n",
              " 11: (0.6084470348333713, 0.5725194058305556),\n",
              " 12: (0.2723650105824619, 0.7771238807575568),\n",
              " 13: (0.24843927020590517, 0.8790755576557601),\n",
              " 14: (0.03165441754690679, 0.6090291203786142),\n",
              " 15: (0.22455631694166678, 0.13880670489936175),\n",
              " 16: (0.06373351239349834, 0.9431425345836153),\n",
              " 17: (0.5154656614205869, 0.846535749921826),\n",
              " 18: (0.15853878586938397, 0.9381832365917756),\n",
              " 19: (0.18066166877074996, 0.3311114178133462)}"
            ]
          },
          "metadata": {},
          "execution_count": 245
        }
      ]
    },
    {
      "cell_type": "code",
      "source": [
        "import json"
      ],
      "metadata": {
        "id": "6C7Kj4QAf_Ho"
      },
      "execution_count": 246,
      "outputs": []
    },
    {
      "cell_type": "code",
      "source": [
        "TSP = json.dumps(pos)"
      ],
      "metadata": {
        "id": "dkvev_MjYWrn"
      },
      "execution_count": 247,
      "outputs": []
    },
    {
      "cell_type": "code",
      "source": [
        "with open(\"./mapa_TSP.txt\",\"a\") as file:\n",
        "  resultado = json.dumps(TSP)\n",
        "  file.write(resultado)\n",
        "  file.write('\\n')"
      ],
      "metadata": {
        "id": "wrxw8NMCgHNw"
      },
      "execution_count": 248,
      "outputs": []
    },
    {
      "cell_type": "code",
      "source": [
        ""
      ],
      "metadata": {
        "id": "zN23DL0JgVLX"
      },
      "execution_count": null,
      "outputs": []
    }
  ]
}