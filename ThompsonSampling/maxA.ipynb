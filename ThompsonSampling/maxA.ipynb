{
 "cells": [
  {
   "cell_type": "markdown",
   "metadata": {},
   "source": [
    "# ¿Cómo elegir el mejor anuncio?\n",
    "Este ejercicio de práctica proviene del curso de [inteligencia artificial para empresas](https://www.udemy.com/course/ai-for-business/) de Super Data Science Team. Consiste en elegir la mejor campaña para vender un producto basándonos en las métricas que recibimos, en tiempo real, sobre la efectividad de cada anuncio. "
   ]
  },
  {
   "cell_type": "markdown",
   "metadata": {},
   "source": [
    "## Thompson Samplin Algorithm\n",
    "La solución propuesta en el curso consiste en este algoritmo aleatorio. En este notebook voy a implementar esta solución a mi estilo. Resulta ser una simulación relativamente fácil, así que voy a mostrar el paso a paso de la creación de este proyecto."
   ]
  },
  {
   "cell_type": "markdown",
   "metadata": {},
   "source": [
    "## Simulando el entorno\n",
    "Esta es la parte más fácil. Sabemos que un anuncio será mostrado a un posible cliente. Sólo existen dos posibilidades: el usuario decide comprar el producto, o no hace nada. Entonces, tenemos un escenario binario, que se puede simular fácilmente con una distribución de Bernoulli."
   ]
  },
  {
   "cell_type": "code",
   "execution_count": 1,
   "metadata": {},
   "outputs": [],
   "source": [
    "import numpy as np"
   ]
  },
  {
   "cell_type": "markdown",
   "metadata": {},
   "source": [
    "Si sólo existen dos posibilidades, una manera de simularlo es mediante un if. En el cuadro de abajo estoy simulando el lanzamiento de una moneda."
   ]
  },
  {
   "cell_type": "code",
   "execution_count": 2,
   "metadata": {},
   "outputs": [
    {
     "name": "stdout",
     "output_type": "stream",
     "text": [
      "Fracaso\n"
     ]
    }
   ],
   "source": [
    "if(np.random.random()<0.5):\n",
    "    print('Victoria')\n",
    "else:\n",
    "    print('Fracaso')"
   ]
  },
  {
   "cell_type": "markdown",
   "metadata": {},
   "source": [
    "Entonces, sabemos que cada anuncio tiene una probabilidad $x$ de convertir a un cliente. Esta probabilidad es desconocida en el mundo real, sin embargo, en esta simulación voy a utilizar probabilidades aleatorias para ocho anuncios."
   ]
  },
  {
   "cell_type": "code",
   "execution_count": 42,
   "metadata": {},
   "outputs": [
    {
     "name": "stdout",
     "output_type": "stream",
     "text": [
      "1 0.21542554783625056\n",
      "2 0.9939838905462661\n",
      "3 0.6562681726056431\n",
      "4 0.7268460822507322\n",
      "5 0.6943724329966824\n",
      "6 0.4520352985852445\n",
      "7 0.6339811291634289\n",
      "8 0.5971233105761905\n"
     ]
    }
   ],
   "source": [
    "prob_conv = [np.random.random() for i in range(8)]\n",
    "for i,prob in enumerate(prob_conv):\n",
    "    print(i+1,prob)"
   ]
  },
  {
   "cell_type": "markdown",
   "metadata": {},
   "source": [
    "Nuestro objetivo es que el algoritmo aleatorio sea capaz de seleccionar el mejor anuncio al recibir los resultados de conversión. Por lo que, en este ejemplo, el algoritmo debería determinar que la opción 2 es la mejor."
   ]
  },
  {
   "cell_type": "markdown",
   "metadata": {},
   "source": [
    "## Implementar el algoritmo"
   ]
  },
  {
   "cell_type": "markdown",
   "metadata": {},
   "source": [
    "El algoritmo maneja una probabilidad para cada una de las variables y ajusta la distribución a medida que recibe más información. Así que voy a empezar por declarar las probabilidades iniciales."
   ]
  },
  {
   "cell_type": "code",
   "execution_count": 43,
   "metadata": {},
   "outputs": [],
   "source": [
    "conversiones = np.array([1]*8)\n",
    "no_conversiones = np.array([1]*8)\n",
    "intenton_totales = conversiones+no_conversiones\n",
    "prob_virtual_victoria = conversiones/intenton_totales"
   ]
  },
  {
   "cell_type": "code",
   "execution_count": 44,
   "metadata": {},
   "outputs": [
    {
     "data": {
      "text/plain": [
       "array([0.5, 0.5, 0.5, 0.5, 0.5, 0.5, 0.5, 0.5])"
      ]
     },
     "execution_count": 44,
     "metadata": {},
     "output_type": "execute_result"
    }
   ],
   "source": [
    "prob_virtual_victoria"
   ]
  },
  {
   "cell_type": "markdown",
   "metadata": {},
   "source": [
    "Empiezo con una probabilidad inicial de 0.5 para que cada anuncio tenga su oportunidad. A medida que simulemos cada interacción con el usuario, esta probabilidad irá cambiando si el anuncio es capaz de completar la conversión."
   ]
  },
  {
   "cell_type": "markdown",
   "metadata": {},
   "source": [
    "## Simulación "
   ]
  },
  {
   "cell_type": "markdown",
   "metadata": {},
   "source": [
    "Necesitamos simular la compra de un cliente. Vamos a suponer que mostraremos nuestros anuncios a $10000$ clientes. En cada impresión vamos a elegir uno de los anuncios sin saber cuál es el mejor. Sin embargo, a medida que el algoritmo tenga más datos, la probabilidad se irá adaptando y para el final sólo mostraremos el mejor anuncio. "
   ]
  },
  {
   "cell_type": "code",
   "execution_count": 45,
   "metadata": {},
   "outputs": [],
   "source": [
    "impresiones = 10**4\n",
    "for i in range(impresiones):\n",
    "    #el algoritmo simula la efectividad de los anuncios\n",
    "    pass\n"
   ]
  },
  {
   "cell_type": "markdown",
   "metadata": {},
   "source": [
    "El algoritmo maneja un mundo virtual en el cual basa sus decisiones. "
   ]
  },
  {
   "cell_type": "code",
   "execution_count": 46,
   "metadata": {},
   "outputs": [
    {
     "data": {
      "text/plain": [
       "array([0.5, 0.5, 0.5, 0.5, 0.5, 0.5, 0.5, 0.5])"
      ]
     },
     "execution_count": 46,
     "metadata": {},
     "output_type": "execute_result"
    }
   ],
   "source": [
    "prob_virtual_victoria"
   ]
  },
  {
   "cell_type": "markdown",
   "metadata": {},
   "source": [
    "Por cada probabilidad virtual, vamos a tomar un número aleatorio que forme parte de su distribución. Así que, generaré un número aleatorio entre 0 y la probabilidad de cada anuncio. Al final, me quedaré sólo con el anuncio que obtenga la mejor probabilidad de vender."
   ]
  },
  {
   "cell_type": "code",
   "execution_count": 49,
   "metadata": {},
   "outputs": [
    {
     "data": {
      "text/plain": [
       "0.02916418891924749"
      ]
     },
     "execution_count": 49,
     "metadata": {},
     "output_type": "execute_result"
    }
   ],
   "source": [
    "np.random.uniform(0,0.5)"
   ]
  },
  {
   "cell_type": "code",
   "execution_count": 50,
   "metadata": {},
   "outputs": [],
   "source": [
    "max_prob = 0\n",
    "max_idx = 0\n",
    "for i,virtual_p in enumerate(prob_virtual_victoria):\n",
    "    #consigo una muestra de la distribución\n",
    "    random_sample = np.random.uniform(0,virtual_p)\n",
    "    #me quedo con la opción que tiene más probabilidad de convertir\n",
    "    if(random_sample>max_prob):\n",
    "        max_prob=random_sample\n",
    "        max_idx = i"
   ]
  },
  {
   "cell_type": "markdown",
   "metadata": {},
   "source": [
    "El algoritmo seleccionó al anuncio 6 como el mejor."
   ]
  },
  {
   "cell_type": "code",
   "execution_count": 52,
   "metadata": {},
   "outputs": [
    {
     "data": {
      "text/plain": [
       "6"
      ]
     },
     "execution_count": 52,
     "metadata": {},
     "output_type": "execute_result"
    }
   ],
   "source": [
    "max_idx"
   ]
  },
  {
   "cell_type": "markdown",
   "metadata": {},
   "source": [
    "El anuncio seleccionado se muestra al cliente en el mundo real, donde se pone de manifiesto la probabilidad real de compra. Cabe recordar que ésta es desconocida, aunque aquí se haga una simulación con datos fijos."
   ]
  },
  {
   "cell_type": "code",
   "execution_count": 53,
   "metadata": {},
   "outputs": [],
   "source": [
    "if np.random.random()<prob_conv[max_idx]:\n",
    "    #guardo las conversiones reales\n",
    "    conversiones[max_idx]+=1\n",
    "else:\n",
    "    no_conversiones[max_idx]+=1"
   ]
  },
  {
   "cell_type": "markdown",
   "metadata": {},
   "source": [
    "Ahora que sé qué anuncios consiguen conversiones en el mundo real, actualizo la probabilidad del mundo virtual."
   ]
  },
  {
   "cell_type": "code",
   "execution_count": 54,
   "metadata": {},
   "outputs": [
    {
     "data": {
      "text/plain": [
       "array([1, 1, 1, 1, 1, 1, 1, 1])"
      ]
     },
     "execution_count": 54,
     "metadata": {},
     "output_type": "execute_result"
    }
   ],
   "source": [
    "conversiones"
   ]
  },
  {
   "cell_type": "markdown",
   "metadata": {},
   "source": [
    "Este anuncio no logró convertir, así que su probabilidad debe disminuir."
   ]
  },
  {
   "cell_type": "code",
   "execution_count": 55,
   "metadata": {},
   "outputs": [
    {
     "data": {
      "text/plain": [
       "array([1, 1, 1, 1, 1, 1, 2, 1])"
      ]
     },
     "execution_count": 55,
     "metadata": {},
     "output_type": "execute_result"
    }
   ],
   "source": [
    "no_conversiones"
   ]
  },
  {
   "cell_type": "code",
   "execution_count": 59,
   "metadata": {},
   "outputs": [],
   "source": [
    "intenton_totales = conversiones[max_idx]+no_conversiones[max_idx]\n",
    "prob_virtual_victoria[max_idx] = conversiones[max_idx]/intenton_totales"
   ]
  },
  {
   "cell_type": "code",
   "execution_count": 60,
   "metadata": {},
   "outputs": [
    {
     "name": "stdout",
     "output_type": "stream",
     "text": [
      "[0.5        0.5        0.5        0.5        0.5        0.5\n",
      " 0.33333333 0.5       ]\n"
     ]
    }
   ],
   "source": [
    "#probabilidad en el mundo virtual\n",
    "print(prob_virtual_victoria)"
   ]
  },
  {
   "cell_type": "code",
   "execution_count": 61,
   "metadata": {},
   "outputs": [
    {
     "name": "stdout",
     "output_type": "stream",
     "text": [
      "[0.21542554783625056, 0.9939838905462661, 0.6562681726056431, 0.7268460822507322, 0.6943724329966824, 0.4520352985852445, 0.6339811291634289, 0.5971233105761905]\n"
     ]
    }
   ],
   "source": [
    "#probabilidad en el mundo real (desconocida)\n",
    "print(prob_conv)"
   ]
  },
  {
   "cell_type": "markdown",
   "metadata": {},
   "source": [
    "Ahora las probabilidades ya no son iguales a lanzar una moneda. Este proceso se repite durante los $10000$ clientes y podemos concluir cuál es el anuncio más efectivo."
   ]
  },
  {
   "cell_type": "markdown",
   "metadata": {},
   "source": [
    "## Clase"
   ]
  },
  {
   "cell_type": "code",
   "execution_count": 84,
   "metadata": {},
   "outputs": [],
   "source": [
    "#clase para implementar el algoritmo\n",
    "class TSampling:\n",
    "    \"\"\"Class for Thompson Sampling\"\"\"\n",
    "    def __init__(self,n:int):\n",
    "        self.victorias = np.array([1]*n)\n",
    "        self.fracasos = np.array([1]*n)\n",
    "        #probabilidad virtual\n",
    "        total = self.victorias+self.fracasos\n",
    "        self.v_p  = self.victorias/total\n",
    "    \n",
    "    def get_virtual_p(self):\n",
    "        \"\"\"Get virtual probabilities \"\"\"\n",
    "        return self.v_p\n",
    "    \n",
    "    def select_best_p(self):\n",
    "        \"\"\"Select best option based on VP\"\"\"\n",
    "        max_prob = 0\n",
    "        max_idx = 0\n",
    "        for i,virtual_p in enumerate(self.v_p):\n",
    "            #consigo una muestra de la distribución\n",
    "            random_sample = np.random.uniform(0,virtual_p)\n",
    "            #me quedo con la opción que tiene más probabilidad de convertir\n",
    "            if(random_sample>max_prob):\n",
    "                max_prob=random_sample\n",
    "                max_idx = i\n",
    "        return max_idx\n",
    "        \n",
    "    def update_vp(self,idx:int,success:int,failure:int):\n",
    "        \"\"\"Update VP based on real data\"\"\"\n",
    "        self.victorias[idx]+=success\n",
    "        self.fracasos[idx]+=failure\n",
    "        total = self.victorias[idx]+self.fracasos[idx]\n",
    "        self.v_p[idx]  = self.victorias[idx]/total"
   ]
  },
  {
   "cell_type": "code",
   "execution_count": 76,
   "metadata": {},
   "outputs": [],
   "source": [
    "ts = TSampling(8)"
   ]
  },
  {
   "cell_type": "code",
   "execution_count": 77,
   "metadata": {},
   "outputs": [
    {
     "data": {
      "text/plain": [
       "array([0.5, 0.5, 0.5, 0.5, 0.5, 0.5, 0.5, 0.5])"
      ]
     },
     "execution_count": 77,
     "metadata": {},
     "output_type": "execute_result"
    }
   ],
   "source": [
    "ts.get_virtual_p()"
   ]
  },
  {
   "cell_type": "code",
   "execution_count": 78,
   "metadata": {},
   "outputs": [
    {
     "data": {
      "text/plain": [
       "3"
      ]
     },
     "execution_count": 78,
     "metadata": {},
     "output_type": "execute_result"
    }
   ],
   "source": [
    "ts.select_best_p()"
   ]
  },
  {
   "cell_type": "code",
   "execution_count": 79,
   "metadata": {},
   "outputs": [],
   "source": [
    "ts.update_vp(3,0,1)"
   ]
  },
  {
   "cell_type": "code",
   "execution_count": 80,
   "metadata": {},
   "outputs": [
    {
     "data": {
      "text/plain": [
       "array([0.5       , 0.5       , 0.5       , 0.33333333, 0.5       ,\n",
       "       0.5       , 0.5       , 0.5       ])"
      ]
     },
     "execution_count": 80,
     "metadata": {},
     "output_type": "execute_result"
    }
   ],
   "source": [
    "ts.get_virtual_p()"
   ]
  },
  {
   "cell_type": "markdown",
   "metadata": {},
   "source": [
    "Con la clase implementada ya puedo producir la simulación completa."
   ]
  },
  {
   "cell_type": "markdown",
   "metadata": {},
   "source": [
    "## Rendimiento\n",
    "Voy a utilizar dos listas para ver cuántas ventas se consiguen si se alige el anuncio aleatoriamente o si se sigue TS."
   ]
  },
  {
   "cell_type": "code",
   "execution_count": 81,
   "metadata": {},
   "outputs": [],
   "source": [
    "ventas_ts = 0\n",
    "ventas_r = 0 "
   ]
  },
  {
   "cell_type": "code",
   "execution_count": 82,
   "metadata": {},
   "outputs": [
    {
     "name": "stdout",
     "output_type": "stream",
     "text": [
      "[0.21542554783625056, 0.9939838905462661, 0.6562681726056431, 0.7268460822507322, 0.6943724329966824, 0.4520352985852445, 0.6339811291634289, 0.5971233105761905]\n"
     ]
    }
   ],
   "source": [
    "print(prob_conv)"
   ]
  },
  {
   "cell_type": "markdown",
   "metadata": {},
   "source": [
    "El segundo anuncio debe ser el que tenga mayor probabilidad después de aplicar TS."
   ]
  },
  {
   "cell_type": "code",
   "execution_count": 83,
   "metadata": {},
   "outputs": [],
   "source": [
    "ts_ventas = TSampling(8)"
   ]
  },
  {
   "cell_type": "code",
   "execution_count": 86,
   "metadata": {},
   "outputs": [],
   "source": [
    "for i in range(10**4):\n",
    "    #elijo el mejor anuncio\n",
    "    selected = ts_ventas.select_best_p()\n",
    "    #muestro el anuncio al cliente\n",
    "    if(np.random.random()<prob_conv[selected]):\n",
    "        #actualizo el mundo virtual con datos reales\n",
    "        ts_ventas.update_vp(selected,1,0)\n",
    "        ventas_ts+=1\n",
    "    else:\n",
    "        #actualizo el mundo virtual con datos reales\n",
    "        ts_ventas.update_vp(selected,0,1)\n",
    "    \n",
    "    #################\n",
    "    # RANDOM SELECTION\n",
    "    #################\n",
    "    # elijo un anuncio al azar\n",
    "    random_selected = np.random.choice([i for i in range(8)])\n",
    "    \n",
    "    #muestro el anuncio\n",
    "    #los clientes deciden comprar o no\n",
    "    if(np.random.random()<prob_conv[random_selected]):\n",
    "        ventas_r+=1\n"
   ]
  },
  {
   "cell_type": "markdown",
   "metadata": {},
   "source": [
    "Al observar las probabilidades virtuales con las reales, podemos ver que TS se acerca bastante a la realidad. Sobre todo con la mejor opción, las peores opciones eventualmente dejan de ser seleccionadas, así que no se acercan tanto al valor real."
   ]
  },
  {
   "cell_type": "code",
   "execution_count": 90,
   "metadata": {},
   "outputs": [],
   "source": [
    "ts_p = ts_ventas.get_virtual_p()"
   ]
  },
  {
   "cell_type": "code",
   "execution_count": 91,
   "metadata": {},
   "outputs": [
    {
     "name": "stdout",
     "output_type": "stream",
     "text": [
      "1 TS: 0.16666666666666666 Real: 0.21542554783625056\n",
      "2 TS: 0.995135971700199 Real: 0.9939838905462661\n",
      "3 TS: 0.6564102564102564 Real: 0.6562681726056431\n",
      "4 TS: 0.7436535589845694 Real: 0.7268460822507322\n",
      "5 TS: 0.6890756302521008 Real: 0.6943724329966824\n",
      "6 TS: 0.2 Real: 0.4520352985852445\n",
      "7 TS: 0.6194331983805668 Real: 0.6339811291634289\n",
      "8 TS: 0.6089108910891089 Real: 0.5971233105761905\n"
     ]
    }
   ],
   "source": [
    "for i in range(8):\n",
    "    print(i+1,'TS:',ts_p[i],'Real:',prob_conv[i])"
   ]
  },
  {
   "cell_type": "markdown",
   "metadata": {},
   "source": [
    "Se puede ver que las ventas usando TS son mayores a la estrategia aleatoria, pero hagamos otro experimento con unas probabilidades de venta más realistas."
   ]
  },
  {
   "cell_type": "code",
   "execution_count": 93,
   "metadata": {},
   "outputs": [
    {
     "name": "stdout",
     "output_type": "stream",
     "text": [
      "Random: 6148, TS:8266\n"
     ]
    }
   ],
   "source": [
    "print('Random: {r}, TS:{ts}'.format(r=ventas_r,ts=ventas_ts))"
   ]
  },
  {
   "cell_type": "markdown",
   "metadata": {},
   "source": [
    "## Segundo ejemplo"
   ]
  },
  {
   "cell_type": "code",
   "execution_count": 123,
   "metadata": {},
   "outputs": [],
   "source": [
    "real_p = [0.2, 0.19, 0.15, 0.05, 0.01, 0.1, 0.16, 0.08, 0.005, 0.17]"
   ]
  },
  {
   "cell_type": "code",
   "execution_count": 124,
   "metadata": {},
   "outputs": [],
   "source": [
    "ts_ventas = TSampling(len(real_p))"
   ]
  },
  {
   "cell_type": "code",
   "execution_count": 125,
   "metadata": {},
   "outputs": [
    {
     "data": {
      "text/plain": [
       "array([0.5, 0.5, 0.5, 0.5, 0.5, 0.5, 0.5, 0.5, 0.5, 0.5])"
      ]
     },
     "execution_count": 125,
     "metadata": {},
     "output_type": "execute_result"
    }
   ],
   "source": [
    "ts_ventas.get_virtual_p()"
   ]
  },
  {
   "cell_type": "code",
   "execution_count": 126,
   "metadata": {},
   "outputs": [],
   "source": [
    "ventas_ts = 0\n",
    "ventas_r = 0 "
   ]
  },
  {
   "cell_type": "code",
   "execution_count": 127,
   "metadata": {},
   "outputs": [],
   "source": [
    "for i in range(10**4):\n",
    "    #elijo el mejor anuncio\n",
    "    selected = ts_ventas.select_best_p()\n",
    "    #muestro el anuncio al cliente\n",
    "    if(np.random.random()<real_p[selected]):\n",
    "        #actualizo el mundo virtual con datos reales\n",
    "        ts_ventas.update_vp(selected,1,0)\n",
    "        ventas_ts+=1\n",
    "    else:\n",
    "        #actualizo el mundo virtual con datos reales\n",
    "        ts_ventas.update_vp(selected,0,1)\n",
    "    \n",
    "    #################\n",
    "    # RANDOM SELECTION\n",
    "    #################\n",
    "    # elijo un anuncio al azar\n",
    "    random_selected = np.random.choice([i for i in range(len(real_p))])\n",
    "    \n",
    "    #muestro el anuncio\n",
    "    #los clientes deciden comprar o no\n",
    "    if(np.random.random()<real_p[random_selected]):\n",
    "        ventas_r+=1"
   ]
  },
  {
   "cell_type": "markdown",
   "metadata": {},
   "source": [
    "Aquí pasa algo curioso, ya que termina mejorando una opción que no es la mejor, pero se acerca bastante como para que, en la práctica, no importe."
   ]
  },
  {
   "cell_type": "code",
   "execution_count": 128,
   "metadata": {},
   "outputs": [
    {
     "name": "stdout",
     "output_type": "stream",
     "text": [
      "1 TS: 0.1952400161355385 Real: 0.2\n",
      "2 TS: 0.20093167701863354 Real: 0.19\n",
      "3 TS: 0.05555555555555555 Real: 0.15\n",
      "4 TS: 0.07777777777777778 Real: 0.05\n",
      "5 TS: 0.047619047619047616 Real: 0.01\n",
      "6 TS: 0.07142857142857142 Real: 0.1\n",
      "7 TS: 0.16889312977099236 Real: 0.16\n",
      "8 TS: 0.07547169811320754 Real: 0.08\n",
      "9 TS: 0.05263157894736842 Real: 0.005\n",
      "10 TS: 0.16778178075141534 Real: 0.17\n"
     ]
    }
   ],
   "source": [
    "ts_p = ts_ventas.get_virtual_p()\n",
    "for i in range(len(real_p)):\n",
    "    print(i+1,'TS:',ts_p[i],'Real:',real_p[i])"
   ]
  },
  {
   "cell_type": "markdown",
   "metadata": {},
   "source": [
    "Al agregar más opciones se hace evidente que TS logra mejores resultados que une elección al azar de los anuncios. Además, TS consigue una probabilidad para sus opciones muy cercana a la realidad, lo que permite seleccionar la mejor opción después de algunas pruebas. Así que, a partir de este punto, podríamos elegir únicamente mostrar los dos primeros anuncios para conseguir ventas y no gastar más dinero promocionando los otros."
   ]
  },
  {
   "cell_type": "code",
   "execution_count": 130,
   "metadata": {},
   "outputs": [
    {
     "name": "stdout",
     "output_type": "stream",
     "text": [
      "Random: 1105, TS:1821\n"
     ]
    }
   ],
   "source": [
    "print('Random: {r}, TS:{ts}'.format(r=ventas_r,ts=ventas_ts))"
   ]
  },
  {
   "cell_type": "markdown",
   "metadata": {},
   "source": [
    "## Graficando su rendimiento"
   ]
  },
  {
   "cell_type": "markdown",
   "metadata": {},
   "source": [
    "Vamos a ver cómo crecen las ventas en comparación al dinero gastado, supongamos que cada impresión nos cuesta 0.2 dólares, mientras que cada venta nos produce 5 dólares de ganancia."
   ]
  },
  {
   "cell_type": "code",
   "execution_count": 260,
   "metadata": {},
   "outputs": [],
   "source": [
    "real_p = [0.2, 0.19, 0.15, 0.05, 0.3, 0.1, 0.16, 0.08, 0.005, 0.17, 0.057, 0.0256, 0.179]"
   ]
  },
  {
   "cell_type": "code",
   "execution_count": 261,
   "metadata": {},
   "outputs": [],
   "source": [
    "ts_ventas = TSampling(len(real_p))"
   ]
  },
  {
   "cell_type": "code",
   "execution_count": 262,
   "metadata": {},
   "outputs": [],
   "source": [
    "ventas_ts = []\n",
    "ventas_r = []"
   ]
  },
  {
   "cell_type": "code",
   "execution_count": 263,
   "metadata": {},
   "outputs": [],
   "source": [
    "opciones = [i for i in range(len(real_p))]"
   ]
  },
  {
   "cell_type": "code",
   "execution_count": 264,
   "metadata": {},
   "outputs": [
    {
     "data": {
      "text/plain": [
       "[0, 1, 2, 3, 4, 5, 6, 7, 8, 9, 10, 11, 12]"
      ]
     },
     "execution_count": 264,
     "metadata": {},
     "output_type": "execute_result"
    }
   ],
   "source": [
    "opciones"
   ]
  },
  {
   "cell_type": "code",
   "execution_count": 265,
   "metadata": {},
   "outputs": [],
   "source": [
    "for i in range(10**3):\n",
    "    #elijo el mejor anuncio\n",
    "    selected = ts_ventas.select_best_p()\n",
    "    #muestro el anuncio al cliente\n",
    "    if(np.random.random()<real_p[selected]):\n",
    "        #actualizo el mundo virtual con datos reales\n",
    "        ts_ventas.update_vp(selected,1,0)\n",
    "        ventas_ts.append(5)\n",
    "    else:\n",
    "        #actualizo el mundo virtual con datos reales\n",
    "        ts_ventas.update_vp(selected,0,1)\n",
    "        ventas_ts.append(-0.2)\n",
    "\n",
    "    #################\n",
    "    # RANDOM SELECTION\n",
    "    #################\n",
    "    # elijo un anuncio al azar\n",
    "    random_selected = np.random.choice(opciones)\n",
    "    \n",
    "    #muestro el anuncio\n",
    "    #los clientes deciden comprar o no\n",
    "    if(np.random.random()<real_p[random_selected]):\n",
    "        ventas_r.append(5)\n",
    "    else:\n",
    "        ventas_r.append(-0.2)"
   ]
  },
  {
   "cell_type": "code",
   "execution_count": 266,
   "metadata": {},
   "outputs": [],
   "source": [
    "import matplotlib.pyplot as plt"
   ]
  },
  {
   "cell_type": "markdown",
   "metadata": {},
   "source": [
    "La estrategia aleatoria consigue ganancias, pero podemos ver cómo en ocasiones hay pérdidas que retrasan el avance. "
   ]
  },
  {
   "cell_type": "code",
   "execution_count": 267,
   "metadata": {},
   "outputs": [
    {
     "data": {
      "text/plain": [
       "[<matplotlib.lines.Line2D at 0x16483379a30>]"
      ]
     },
     "execution_count": 267,
     "metadata": {},
     "output_type": "execute_result"
    },
    {
     "data": {
      "image/png": "[encoded data removed]",
      "text/plain": [
       "<Figure size 432x288 with 1 Axes>"
      ]
     },
     "metadata": {
      "needs_background": "light"
     },
     "output_type": "display_data"
    }
   ],
   "source": [
    "plt.plot(np.cumsum(ventas_r))"
   ]
  },
  {
   "cell_type": "markdown",
   "metadata": {},
   "source": [
    "TS, por otro lado, consigue generar muchas más ganancias, casi el doble, y logramos eso con sólo mil impresiones. Es decir, no es necesario usar el algoritmo diez mil veces para obtener el mejor anuncio."
   ]
  },
  {
   "cell_type": "code",
   "execution_count": 268,
   "metadata": {},
   "outputs": [
    {
     "data": {
      "text/plain": [
       "[<matplotlib.lines.Line2D at 0x164833c9a60>]"
      ]
     },
     "execution_count": 268,
     "metadata": {},
     "output_type": "execute_result"
    },
    {
     "data": {
      "image/png": "[encoded data removed]",
      "text/plain": [
       "<Figure size 432x288 with 1 Axes>"
      ]
     },
     "metadata": {
      "needs_background": "light"
     },
     "output_type": "display_data"
    }
   ],
   "source": [
    "plt.plot(np.cumsum(ventas_ts))"
   ]
  },
  {
   "cell_type": "code",
   "execution_count": 269,
   "metadata": {},
   "outputs": [
    {
     "data": {
      "text/plain": [
       "array([0.1682243 , 0.20765027, 0.1       , 0.1       , 0.30088496,\n",
       "       0.1       , 0.20689655, 0.11764706, 0.1       , 0.1       ,\n",
       "       0.09090909, 0.1       , 0.16304348])"
      ]
     },
     "execution_count": 269,
     "metadata": {},
     "output_type": "execute_result"
    }
   ],
   "source": [
    "ts_ventas.get_virtual_p()"
   ]
  },
  {
   "cell_type": "code",
   "execution_count": 270,
   "metadata": {},
   "outputs": [
    {
     "data": {
      "text/plain": [
       "(array([4], dtype=int64),)"
      ]
     },
     "execution_count": 270,
     "metadata": {},
     "output_type": "execute_result"
    }
   ],
   "source": [
    "np.where(ts_ventas.get_virtual_p()==max(ts_ventas.get_virtual_p()))"
   ]
  },
  {
   "cell_type": "markdown",
   "metadata": {},
   "source": [
    "La mejor opción es el quinto anuncio."
   ]
  },
  {
   "cell_type": "code",
   "execution_count": null,
   "metadata": {},
   "outputs": [],
   "source": []
  }
 ],
 "metadata": {
  "kernelspec": {
   "display_name": "Python 3",
   "language": "python",
   "name": "python3"
  },
  "language_info": {
   "codemirror_mode": {
    "name": "ipython",
    "version": 3
   },
   "file_extension": ".py",
   "mimetype": "text/x-python",
   "name": "python",
   "nbconvert_exporter": "python",
   "pygments_lexer": "ipython3",
   "version": "3.8.5"
  }
 },
 "nbformat": 4,
 "nbformat_minor": 4
}
