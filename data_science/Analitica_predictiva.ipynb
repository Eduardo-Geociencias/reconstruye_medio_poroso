{
 "cells": [
  {
   "cell_type": "markdown",
   "metadata": {},
   "source": [
    "# Proyecto de Analítica predictiva y modelos de regresión en Python"
   ]
  },
  {
   "cell_type": "code",
   "execution_count": 1,
   "metadata": {},
   "outputs": [],
   "source": [
    "import pandas as pd"
   ]
  },
  {
   "cell_type": "markdown",
   "metadata": {},
   "source": [
    "El dataset que será utilizado hace referencia a datos sobre moluscos. El objetivo de este notebook será constuir un modelo capaz de predecir la edad del molusco."
   ]
  },
  {
   "cell_type": "markdown",
   "metadata": {},
   "source": [
    "## Parte 1: Análisis exploratorio"
   ]
  },
  {
   "cell_type": "markdown",
   "metadata": {},
   "source": [
    "### ¿Cuántos datos tenemos para nuestro análisis?"
   ]
  },
  {
   "cell_type": "markdown",
   "metadata": {},
   "source": [
    "Importo los datos."
   ]
  },
  {
   "cell_type": "code",
   "execution_count": 8,
   "metadata": {},
   "outputs": [],
   "source": [
    "df = pd.read_csv('./data_sets/abalone_train.csv')"
   ]
  },
  {
   "cell_type": "code",
   "execution_count": 11,
   "metadata": {},
   "outputs": [
    {
     "data": {
      "text/html": [
       "<div>\n",
       "<style scoped>\n",
       "    .dataframe tbody tr th:only-of-type {\n",
       "        vertical-align: middle;\n",
       "    }\n",
       "\n",
       "    .dataframe tbody tr th {\n",
       "        vertical-align: top;\n",
       "    }\n",
       "\n",
       "    .dataframe thead th {\n",
       "        text-align: right;\n",
       "    }\n",
       "</style>\n",
       "<table border=\"1\" class=\"dataframe\">\n",
       "  <thead>\n",
       "    <tr style=\"text-align: right;\">\n",
       "      <th></th>\n",
       "      <th>sexo</th>\n",
       "      <th>longitud</th>\n",
       "      <th>diametro</th>\n",
       "      <th>altura</th>\n",
       "      <th>peso_entero</th>\n",
       "      <th>peso_sin_cascara</th>\n",
       "      <th>peso_visceras</th>\n",
       "      <th>peso_cascara</th>\n",
       "      <th>edad</th>\n",
       "    </tr>\n",
       "  </thead>\n",
       "  <tbody>\n",
       "    <tr>\n",
       "      <th>0</th>\n",
       "      <td>M</td>\n",
       "      <td>0.620</td>\n",
       "      <td>0.490</td>\n",
       "      <td>0.155</td>\n",
       "      <td>1.1000</td>\n",
       "      <td>0.5050</td>\n",
       "      <td>0.2475</td>\n",
       "      <td>0.3100</td>\n",
       "      <td>9</td>\n",
       "    </tr>\n",
       "    <tr>\n",
       "      <th>1</th>\n",
       "      <td>I</td>\n",
       "      <td>0.475</td>\n",
       "      <td>0.375</td>\n",
       "      <td>0.110</td>\n",
       "      <td>0.4560</td>\n",
       "      <td>0.1820</td>\n",
       "      <td>0.0990</td>\n",
       "      <td>0.1600</td>\n",
       "      <td>9</td>\n",
       "    </tr>\n",
       "    <tr>\n",
       "      <th>2</th>\n",
       "      <td>M</td>\n",
       "      <td>0.600</td>\n",
       "      <td>0.475</td>\n",
       "      <td>0.175</td>\n",
       "      <td>1.1100</td>\n",
       "      <td>0.5105</td>\n",
       "      <td>0.2560</td>\n",
       "      <td>0.2850</td>\n",
       "      <td>9</td>\n",
       "    </tr>\n",
       "    <tr>\n",
       "      <th>3</th>\n",
       "      <td>I</td>\n",
       "      <td>0.340</td>\n",
       "      <td>0.255</td>\n",
       "      <td>0.075</td>\n",
       "      <td>0.1800</td>\n",
       "      <td>0.0745</td>\n",
       "      <td>0.0400</td>\n",
       "      <td>0.0525</td>\n",
       "      <td>6</td>\n",
       "    </tr>\n",
       "    <tr>\n",
       "      <th>4</th>\n",
       "      <td>F</td>\n",
       "      <td>0.670</td>\n",
       "      <td>0.505</td>\n",
       "      <td>0.205</td>\n",
       "      <td>1.3645</td>\n",
       "      <td>0.6075</td>\n",
       "      <td>0.3025</td>\n",
       "      <td>0.3530</td>\n",
       "      <td>9</td>\n",
       "    </tr>\n",
       "  </tbody>\n",
       "</table>\n",
       "</div>"
      ],
      "text/plain": [
       "  sexo  longitud  diametro  altura  peso_entero  peso_sin_cascara  \\\n",
       "0    M     0.620     0.490   0.155       1.1000            0.5050   \n",
       "1    I     0.475     0.375   0.110       0.4560            0.1820   \n",
       "2    M     0.600     0.475   0.175       1.1100            0.5105   \n",
       "3    I     0.340     0.255   0.075       0.1800            0.0745   \n",
       "4    F     0.670     0.505   0.205       1.3645            0.6075   \n",
       "\n",
       "   peso_visceras  peso_cascara  edad  \n",
       "0         0.2475        0.3100     9  \n",
       "1         0.0990        0.1600     9  \n",
       "2         0.2560        0.2850     9  \n",
       "3         0.0400        0.0525     6  \n",
       "4         0.3025        0.3530     9  "
      ]
     },
     "execution_count": 11,
     "metadata": {},
     "output_type": "execute_result"
    }
   ],
   "source": [
    "df.head()"
   ]
  },
  {
   "cell_type": "code",
   "execution_count": 14,
   "metadata": {},
   "outputs": [
    {
     "data": {
      "text/plain": [
       "(3342, 9)"
      ]
     },
     "execution_count": 14,
     "metadata": {},
     "output_type": "execute_result"
    }
   ],
   "source": [
    "df.shape"
   ]
  },
  {
   "cell_type": "markdown",
   "metadata": {},
   "source": [
    "Existen 3342 ejemplos que pueden ser utilizados para el entrenamiento del modelo. Cada ejemplo cuenta con 9 características del molusco, donde la última columna es la edad, la característica que se quiere predecir."
   ]
  },
  {
   "cell_type": "markdown",
   "metadata": {},
   "source": [
    "### Encontrar estadísticas descriptivas de todas las variables de la base de datos. "
   ]
  },
  {
   "cell_type": "markdown",
   "metadata": {},
   "source": [
    "Información general sobre los datos disponibles."
   ]
  },
  {
   "cell_type": "code",
   "execution_count": 15,
   "metadata": {},
   "outputs": [
    {
     "data": {
      "text/html": [
       "<div>\n",
       "<style scoped>\n",
       "    .dataframe tbody tr th:only-of-type {\n",
       "        vertical-align: middle;\n",
       "    }\n",
       "\n",
       "    .dataframe tbody tr th {\n",
       "        vertical-align: top;\n",
       "    }\n",
       "\n",
       "    .dataframe thead th {\n",
       "        text-align: right;\n",
       "    }\n",
       "</style>\n",
       "<table border=\"1\" class=\"dataframe\">\n",
       "  <thead>\n",
       "    <tr style=\"text-align: right;\">\n",
       "      <th></th>\n",
       "      <th>longitud</th>\n",
       "      <th>diametro</th>\n",
       "      <th>altura</th>\n",
       "      <th>peso_entero</th>\n",
       "      <th>peso_sin_cascara</th>\n",
       "      <th>peso_visceras</th>\n",
       "      <th>peso_cascara</th>\n",
       "      <th>edad</th>\n",
       "    </tr>\n",
       "  </thead>\n",
       "  <tbody>\n",
       "    <tr>\n",
       "      <th>count</th>\n",
       "      <td>3342.000000</td>\n",
       "      <td>3342.000000</td>\n",
       "      <td>3342.000000</td>\n",
       "      <td>3342.000000</td>\n",
       "      <td>3342.000000</td>\n",
       "      <td>3342.000000</td>\n",
       "      <td>3342.000000</td>\n",
       "      <td>3342.000000</td>\n",
       "    </tr>\n",
       "    <tr>\n",
       "      <th>mean</th>\n",
       "      <td>0.522362</td>\n",
       "      <td>0.406858</td>\n",
       "      <td>0.139461</td>\n",
       "      <td>0.823557</td>\n",
       "      <td>0.355899</td>\n",
       "      <td>0.179492</td>\n",
       "      <td>0.238495</td>\n",
       "      <td>10.040694</td>\n",
       "    </tr>\n",
       "    <tr>\n",
       "      <th>std</th>\n",
       "      <td>0.120648</td>\n",
       "      <td>0.099741</td>\n",
       "      <td>0.042764</td>\n",
       "      <td>0.491525</td>\n",
       "      <td>0.221827</td>\n",
       "      <td>0.109655</td>\n",
       "      <td>0.141137</td>\n",
       "      <td>3.335768</td>\n",
       "    </tr>\n",
       "    <tr>\n",
       "      <th>min</th>\n",
       "      <td>0.075000</td>\n",
       "      <td>0.055000</td>\n",
       "      <td>0.000000</td>\n",
       "      <td>0.002000</td>\n",
       "      <td>0.001000</td>\n",
       "      <td>0.000500</td>\n",
       "      <td>0.001500</td>\n",
       "      <td>1.000000</td>\n",
       "    </tr>\n",
       "    <tr>\n",
       "      <th>25%</th>\n",
       "      <td>0.450000</td>\n",
       "      <td>0.345000</td>\n",
       "      <td>0.115000</td>\n",
       "      <td>0.438000</td>\n",
       "      <td>0.182000</td>\n",
       "      <td>0.092500</td>\n",
       "      <td>0.127875</td>\n",
       "      <td>8.000000</td>\n",
       "    </tr>\n",
       "    <tr>\n",
       "      <th>50%</th>\n",
       "      <td>0.540000</td>\n",
       "      <td>0.425000</td>\n",
       "      <td>0.140000</td>\n",
       "      <td>0.795750</td>\n",
       "      <td>0.332000</td>\n",
       "      <td>0.169250</td>\n",
       "      <td>0.230000</td>\n",
       "      <td>10.000000</td>\n",
       "    </tr>\n",
       "    <tr>\n",
       "      <th>75%</th>\n",
       "      <td>0.615000</td>\n",
       "      <td>0.480000</td>\n",
       "      <td>0.165000</td>\n",
       "      <td>1.145000</td>\n",
       "      <td>0.497000</td>\n",
       "      <td>0.249875</td>\n",
       "      <td>0.325000</td>\n",
       "      <td>11.000000</td>\n",
       "    </tr>\n",
       "    <tr>\n",
       "      <th>max</th>\n",
       "      <td>0.815000</td>\n",
       "      <td>0.650000</td>\n",
       "      <td>1.130000</td>\n",
       "      <td>2.825500</td>\n",
       "      <td>1.488000</td>\n",
       "      <td>0.760000</td>\n",
       "      <td>1.005000</td>\n",
       "      <td>29.000000</td>\n",
       "    </tr>\n",
       "  </tbody>\n",
       "</table>\n",
       "</div>"
      ],
      "text/plain": [
       "          longitud     diametro       altura  peso_entero  peso_sin_cascara  \\\n",
       "count  3342.000000  3342.000000  3342.000000  3342.000000       3342.000000   \n",
       "mean      0.522362     0.406858     0.139461     0.823557          0.355899   \n",
       "std       0.120648     0.099741     0.042764     0.491525          0.221827   \n",
       "min       0.075000     0.055000     0.000000     0.002000          0.001000   \n",
       "25%       0.450000     0.345000     0.115000     0.438000          0.182000   \n",
       "50%       0.540000     0.425000     0.140000     0.795750          0.332000   \n",
       "75%       0.615000     0.480000     0.165000     1.145000          0.497000   \n",
       "max       0.815000     0.650000     1.130000     2.825500          1.488000   \n",
       "\n",
       "       peso_visceras  peso_cascara         edad  \n",
       "count    3342.000000   3342.000000  3342.000000  \n",
       "mean        0.179492      0.238495    10.040694  \n",
       "std         0.109655      0.141137     3.335768  \n",
       "min         0.000500      0.001500     1.000000  \n",
       "25%         0.092500      0.127875     8.000000  \n",
       "50%         0.169250      0.230000    10.000000  \n",
       "75%         0.249875      0.325000    11.000000  \n",
       "max         0.760000      1.005000    29.000000  "
      ]
     },
     "execution_count": 15,
     "metadata": {},
     "output_type": "execute_result"
    }
   ],
   "source": [
    "df.describe()"
   ]
  },
  {
   "cell_type": "markdown",
   "metadata": {},
   "source": [
    "### Gráficos de dispersión"
   ]
  },
  {
   "cell_type": "code",
   "execution_count": null,
   "metadata": {},
   "outputs": [],
   "source": []
  }
 ],
 "metadata": {
  "kernelspec": {
   "display_name": "Python 3",
   "language": "python",
   "name": "python3"
  },
  "language_info": {
   "codemirror_mode": {
    "name": "ipython",
    "version": 3
   },
   "file_extension": ".py",
   "mimetype": "text/x-python",
   "name": "python",
   "nbconvert_exporter": "python",
   "pygments_lexer": "ipython3",
   "version": "3.8.5"
  }
 },
 "nbformat": 4,
 "nbformat_minor": 4
}
